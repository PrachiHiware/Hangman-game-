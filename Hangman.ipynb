{
  "nbformat": 4,
  "nbformat_minor": 0,
  "metadata": {
    "colab": {
      "name": "Hangman.ipynb",
      "provenance": []
    },
    "kernelspec": {
      "name": "python3",
      "display_name": "Python 3"
    },
    "language_info": {
      "name": "python"
    }
  },
  "cells": [
    {
      "cell_type": "code",
      "source": [
        "# Hangman Game \n",
        "# To guess name of fruit\n",
        "import random \n",
        "from collections import Counter \n"
      ],
      "metadata": {
        "id": "JNOEaDR8-PWp"
      },
      "execution_count": 1,
      "outputs": []
    },
    {
      "cell_type": "code",
      "execution_count": 2,
      "metadata": {
        "colab": {
          "base_uri": "https://localhost:8080/"
        },
        "id": "sZaoOKhh-KHi",
        "outputId": "aa93693b-9dc9-4f15-b58b-a8bf0fdf6f63"
      },
      "outputs": [
        {
          "output_type": "stream",
          "name": "stdout",
          "text": [
            "Guess the word! HINT: word is a name of a fruit\n",
            "_ _ _ _ _ \n",
            "\n",
            "Enter a letter to guess: k\n",
            "_ _ _ _ _ \n",
            "Enter a letter to guess: a\n",
            "_ _ a _ _ \n",
            "Enter a letter to guess: r\n",
            "_ _ a _ _ \n",
            "Enter a letter to guess: t\n",
            "_ _ a _ _ \n",
            "Enter a letter to guess: s\n",
            "_ _ a _ _ \n",
            "Enter a letter to guess: p\n",
            "p _ a _ _ \n",
            "Enter a letter to guess: e\n",
            "p e a _ _ \n",
            "You lost! Try again..\n",
            "The word was peach\n"
          ]
        }
      ],
      "source": [
        "\n",
        "someWords = '''apple banana mango strawberry \n",
        "orange grape pineapple apricot lemon coconut watermelon \n",
        "cherry papaya berry peach lychee muskmelon'''\n",
        "\n",
        "someWords = someWords.split(' ') \n",
        "# randomly choose a secret word from our \"someWords\" LIST. \n",
        "word = random.choice(someWords)\t\t \n",
        "\n",
        "if __name__ == '__main__': \n",
        "\tprint('Guess the word! HINT: word is a name of a fruit') \n",
        "\t\n",
        "\tfor i in word: \n",
        "\t\t# For printing the empty spaces for letters of the word \n",
        "\t\tprint('_', end = ' ')\t\t \n",
        "\tprint() \n",
        "\n",
        "\tplaying = True\n",
        "\t# list for storing the letters guessed by the player \n",
        "\tletterGuessed = ''\t\t\t\t \n",
        "\tchances = len(word) + 2\n",
        "\tcorrect = 0\n",
        "\tflag = 0\n",
        "\ttry: \n",
        "\t\twhile (chances != 0) and flag == 0: #flag is updated when the word is correctly guessed \n",
        "\t\t\tprint() \n",
        "\t\t\tchances -= 1\n",
        "\n",
        "\t\t\ttry: \n",
        "\t\t\t\tguess = str(input('Enter a letter to guess: ')) \n",
        "\t\t\texcept: \n",
        "\t\t\t\tprint('Enter only a letter!') \n",
        "\t\t\t\tcontinue\n",
        "\n",
        "\t\t\t# Validation of the guess \n",
        "\t\t\tif not guess.isalpha(): \n",
        "                                #if numerical value is given input\n",
        "\t\t\t\tprint('Enter only a LETTER') \n",
        "\t\t\t\tcontinue\n",
        "\t\t\telif len(guess) > 1: \n",
        "\t\t\t\tprint('Enter only a SINGLE letter') \n",
        "\t\t\t\tcontinue\n",
        "\t\t\telif guess in letterGuessed: \n",
        "\t\t\t\tprint('You have already guessed that letter') \n",
        "\t\t\t\tcontinue\n",
        "\n",
        "\n",
        "\t\t\t# If letter is guessed correctly \n",
        "\t\t\tif guess in word: \n",
        "\t\t\t\tk = word.count(guess) #k stores the number of times the guessed letter occurs in the word \n",
        "\t\t\t\tfor _ in range(k):\t \n",
        "\t\t\t\t\tletterGuessed += guess # The guess letter is added as many times as it occurs \n",
        "\n",
        "\t\t\t# Print the word \n",
        "\t\t\tfor char in word: \n",
        "\t\t\t\tif char in letterGuessed and (Counter(letterGuessed) != Counter(word)): \n",
        "\t\t\t\t\tprint(char, end = ' ') \n",
        "\t\t\t\t\tcorrect += 1\n",
        "\t\t\t\t# If user has guessed all the letters \n",
        "\t\t\t\telif (Counter(letterGuessed) == Counter(word)): # Once the correct word is guessed fully, \n",
        "\t\t\t\t\t\t\t\t\t\t\t\t\t\t\t\t# the game ends, even if chances remain \n",
        "\t\t\t\t\tprint(\"The word is: \", end=' ') \n",
        "\t\t\t\t\tprint(word) \n",
        "\t\t\t\t\tflag = 1\n",
        "\t\t\t\t\tprint('Congratulations, You won!') \n",
        "\t\t\t\t\tbreak # To break out of the for loop \n",
        "\t\t\t\t\tbreak # To break out of the while loop \n",
        "\t\t\t\telse: \n",
        "\t\t\t\t\tprint('_', end = ' ') \n",
        "\n",
        "\t\t\t\n",
        "\n",
        "\t\t# If user has used all of his chances \n",
        "\t\tif chances <= 0 and (Counter(letterGuessed) != Counter(word)): \n",
        "\t\t\tprint() \n",
        "\t\t\tprint('You lost! Try again..') \n",
        "\t\t\tprint('The word was {}'.format(word)) \n",
        "\n",
        "\texcept KeyboardInterrupt: \n",
        "\t\tprint() \n",
        "\t\tprint('Bye! Try again.') \n",
        "\t\texit() \n"
      ]
    }
  ]
}